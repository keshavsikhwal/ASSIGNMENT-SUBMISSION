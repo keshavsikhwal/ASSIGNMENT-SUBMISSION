{
  "nbformat": 4,
  "nbformat_minor": 0,
  "metadata": {
    "colab": {
      "provenance": [],
      "authorship_tag": "ABX9TyM1KrNVztlATQtU4pWyqaWa",
      "include_colab_link": true
    },
    "kernelspec": {
      "name": "python3",
      "display_name": "Python 3"
    },
    "language_info": {
      "name": "python"
    }
  },
  "cells": [
    {
      "cell_type": "markdown",
      "metadata": {
        "id": "view-in-github",
        "colab_type": "text"
      },
      "source": [
        "<a href=\"https://colab.research.google.com/github/keshavsikhwal/ASSIGNMENT-SUBMISSION/blob/main/probability_assignment.ipynb\" target=\"_parent\"><img src=\"https://colab.research.google.com/assets/colab-badge.svg\" alt=\"Open In Colab\"/></a>"
      ]
    },
    {
      "cell_type": "markdown",
      "source": [
        "###ASSIGNMENT 0 (CE605)\n",
        "NAME : KESHAV SIKHWAL\n",
        "\n",
        " ROLLNO : 231030028"
      ],
      "metadata": {
        "id": "eQH5WDs_6RXS"
      }
    },
    {
      "cell_type": "markdown",
      "source": [],
      "metadata": {
        "id": "OYIEDrt-6Qdn"
      }
    },
    {
      "cell_type": "markdown",
      "source": [],
      "metadata": {
        "id": "nkNm1Z6S_6R7"
      }
    },
    {
      "cell_type": "code",
      "execution_count": null,
      "metadata": {
        "colab": {
          "base_uri": "https://localhost:8080/"
        },
        "id": "o8nfweGG55io",
        "outputId": "f1e17cfc-c1bf-4cbe-8508-48a3bacccfa3"
      },
      "outputs": [
        {
          "output_type": "stream",
          "name": "stdout",
          "text": [
            "enter element : 5 2.3 6 1.3 4\n",
            "row vector [5.  2.3 6.  1.3 4. ]\n"
          ]
        }
      ],
      "source": [
        "#que_1 row vector by input method\n",
        "import numpy as np #to import numpy libraray\n",
        "\n",
        "input_for_row = input(\"enter element : \")#to take row element\n",
        "\n",
        "a = np.array([float(element) for element in input_for_row.split()]) #to split the stinge into substringe and make an array in numpy\n",
        "\n",
        "print(\"row vector\",a)# to take print as row vector\n"
      ]
    },
    {
      "cell_type": "markdown",
      "source": [],
      "metadata": {
        "id": "NLK9nXx16CHz"
      }
    },
    {
      "cell_type": "code",
      "source": [
        "#que_1 coloumn vector by input method\n",
        "input_for_coloumn = input(\"enter coloumn element: \") #inputting element for coloumn vector\n",
        "a = np.array([float(x) for x in input_for_coloumn.split() ]).reshape(-1,1) #split list and making a sublist to store as array in numpy by using reshape and giving values in coloumn\n",
        "print(\"coloumn vector\",a )# to print coloumn\n",
        "\n"
      ],
      "metadata": {
        "colab": {
          "base_uri": "https://localhost:8080/"
        },
        "id": "xNav3uT4APnf",
        "outputId": "5d572154-0b3a-4fef-88a6-6d226319f17b"
      },
      "execution_count": null,
      "outputs": [
        {
          "output_type": "stream",
          "name": "stdout",
          "text": [
            "enter coloumn element: 4 2.3 1.5 8 7 0\n",
            "coloumn vector [[4. ]\n",
            " [2.3]\n",
            " [1.5]\n",
            " [8. ]\n",
            " [7. ]\n",
            " [0. ]]\n"
          ]
        }
      ]
    },
    {
      "cell_type": "code",
      "source": [
        "#que_1 row vector by manual method\n",
        "a = np.array([2,3,4,2.3]) #making a row  vector element\n",
        "print(\"row vector\", a) # to take print as row vector"
      ],
      "metadata": {
        "colab": {
          "base_uri": "https://localhost:8080/"
        },
        "id": "Rp85Y9veDMv6",
        "outputId": "e79cdaa8-f9ea-4f1a-940e-1d7a75545ad4"
      },
      "execution_count": null,
      "outputs": [
        {
          "output_type": "stream",
          "name": "stdout",
          "text": [
            "row vector [2.  3.  4.  2.3]\n"
          ]
        }
      ]
    },
    {
      "cell_type": "code",
      "source": [
        "# ques_1 coloumn vector by manual method\n",
        "a = np.array([[2],[3],[5.2],[8.6]])\n",
        "print(\"coloumn vector\",a)"
      ],
      "metadata": {
        "colab": {
          "base_uri": "https://localhost:8080/"
        },
        "id": "hbkl_vXFHAWD",
        "outputId": "d0647502-a154-4563-fc73-9999b664b32a"
      },
      "execution_count": null,
      "outputs": [
        {
          "output_type": "stream",
          "name": "stdout",
          "text": [
            "coloumn vector [[2. ]\n",
            " [3. ]\n",
            " [5.2]\n",
            " [8.6]]\n"
          ]
        }
      ]
    },
    {
      "cell_type": "code",
      "source": [
        "#que_2 making a matrix by input method\n",
        "import numpy as np\n",
        "a = np.empty((5,5), dtype = float) #making empty matrix of 5*5\n",
        "for i in range(5):#for loop to make 5 rows\n",
        "    for j in range (5): # for loop to make 5 coloumns # for loop to make 5 coloumns\n",
        "        element = float(input(f\" enter row{i+1}, enter coloumn{j+1} \"))# to take element for row and coloumn\n",
        "        a[i,j] = element # to store element in empty matrix\n",
        "print(\"matrix\",a)      #to print a as matrix\n"
      ],
      "metadata": {
        "colab": {
          "base_uri": "https://localhost:8080/"
        },
        "id": "ylSaeO_xRIOq",
        "outputId": "e508241d-89c0-4ce7-c235-f0190ee72d2b"
      },
      "execution_count": null,
      "outputs": [
        {
          "output_type": "stream",
          "name": "stdout",
          "text": [
            " enter row1, enter coloumn1 1\n",
            " enter row1, enter coloumn2 2.3\n",
            " enter row1, enter coloumn3 4\n",
            " enter row1, enter coloumn4 .3\n",
            " enter row1, enter coloumn5 8.3\n",
            " enter row2, enter coloumn1 8\n",
            " enter row2, enter coloumn2 4\n",
            " enter row2, enter coloumn3 0\n",
            " enter row2, enter coloumn4 0\n",
            " enter row2, enter coloumn5 6\n",
            " enter row3, enter coloumn1 4\n",
            " enter row3, enter coloumn2 5\n",
            " enter row3, enter coloumn3 1\n",
            " enter row3, enter coloumn4 5\n",
            " enter row3, enter coloumn5 20\n",
            " enter row4, enter coloumn1 0\n",
            " enter row4, enter coloumn2 7\n",
            " enter row4, enter coloumn3 4\n",
            " enter row4, enter coloumn4 9\n",
            " enter row4, enter coloumn5 7\n",
            " enter row5, enter coloumn1 2\n",
            " enter row5, enter coloumn2 0\n",
            " enter row5, enter coloumn3 0\n",
            " enter row5, enter coloumn4 0\n",
            " enter row5, enter coloumn5 3\n",
            "matrix [[ 1.   2.3  4.   0.3  8.3]\n",
            " [ 8.   4.   0.   0.   6. ]\n",
            " [ 4.   5.   1.   5.  20. ]\n",
            " [ 0.   7.   4.   9.   7. ]\n",
            " [ 2.   0.   0.   0.   3. ]]\n"
          ]
        }
      ]
    },
    {
      "cell_type": "code",
      "source": [
        "# que_2 making a matrix by manual method\n",
        "a = np.array( [[ 1,   2.3,  4,   0.3,  8.3], # insert a matrix\n",
        " [ 8,   4,   0,   0,   6. ],\n",
        " [ 4,   5,   1,   5,  20. ],\n",
        " [ 0,   7,   4 ,  9,   7. ],\n",
        " [ 2,   0,   0,  0,   3. ]])\n",
        "print(\"manual matrix\",a) # print a as maual matrix"
      ],
      "metadata": {
        "colab": {
          "base_uri": "https://localhost:8080/"
        },
        "id": "sQyFAd6RRNrg",
        "outputId": "6814f781-a7b4-4f85-ad92-dd33f4fae463"
      },
      "execution_count": null,
      "outputs": [
        {
          "output_type": "stream",
          "name": "stdout",
          "text": [
            "manual matrix [[ 1.   2.3  4.   0.3  8.3]\n",
            " [ 8.   4.   0.   0.   6. ]\n",
            " [ 4.   5.   1.   5.  20. ]\n",
            " [ 0.   7.   4.   9.   7. ]\n",
            " [ 2.   0.   0.   0.   3. ]]\n"
          ]
        }
      ]
    },
    {
      "cell_type": "code",
      "source": [
        "#que_3 getting third row of the matrix\n",
        "a = np.array( [[ 1,   2.3,  4,   0.3,  8.3],  #to insert matrix in numpy\n",
        " [ 8,   4,   0,   0,   6. ],\n",
        " [ 4,   5,   1,   5,  20. ],\n",
        " [ 0,   7,   4 ,  9,   7. ],\n",
        " [ 2,   0,   0,  0,   3. ]])\n",
        "third_row = a[2] #to take third row the index number will be 2\n",
        "print(third_row)\n",
        "\n",
        "\n",
        "\n"
      ],
      "metadata": {
        "colab": {
          "base_uri": "https://localhost:8080/"
        },
        "id": "_WiN8t7htntD",
        "outputId": "604276fb-f3ad-4b65-8105-c2f8f97d4401"
      },
      "execution_count": null,
      "outputs": [
        {
          "output_type": "stream",
          "name": "stdout",
          "text": [
            "[ 4.  5.  1.  5. 20.]\n"
          ]
        }
      ]
    },
    {
      "cell_type": "code",
      "source": [
        "#que_4 getting forth coloumn of matrix a\n",
        "forth_coloumn = a[:,3]\n",
        "print(forth_coloumn)\n"
      ],
      "metadata": {
        "colab": {
          "base_uri": "https://localhost:8080/"
        },
        "id": "wkKJhqzWxOsq",
        "outputId": "0208510e-4cf9-4f15-a032-2691c17fd3d5"
      },
      "execution_count": null,
      "outputs": [
        {
          "output_type": "stream",
          "name": "stdout",
          "text": [
            "[0.3 0.  5.  9.  0. ]\n"
          ]
        }
      ]
    },
    {
      "cell_type": "code",
      "source": [
        "#que_5 sorting matrix row wise\n",
        "row_sorted = np.sort(a,axis=1)\n",
        "print(row_sorted)"
      ],
      "metadata": {
        "colab": {
          "base_uri": "https://localhost:8080/"
        },
        "id": "-yr0O8Ne25jU",
        "outputId": "a464f904-23e4-4ffc-b767-284b6eb977d0"
      },
      "execution_count": null,
      "outputs": [
        {
          "output_type": "stream",
          "name": "stdout",
          "text": [
            "[[ 0.3  1.   2.3  4.   8.3]\n",
            " [ 0.   0.   4.   6.   8. ]\n",
            " [ 1.   4.   5.   5.  20. ]\n",
            " [ 0.   4.   7.   7.   9. ]\n",
            " [ 0.   0.   0.   2.   3. ]]\n"
          ]
        }
      ]
    },
    {
      "cell_type": "code",
      "source": [
        "#que_5 sorting coloumns\n",
        "coloumn_sorted = np.sort(a,axis=0)#to sort  matrix we used .sort function\n",
        "print(coloumn_sorted) #to take print as coloumn_sorted"
      ],
      "metadata": {
        "colab": {
          "base_uri": "https://localhost:8080/"
        },
        "id": "I7VbDq1O4RAf",
        "outputId": "7cbaf46c-f486-4b03-c1f3-4982ad839f2f"
      },
      "execution_count": null,
      "outputs": [
        {
          "output_type": "stream",
          "name": "stdout",
          "text": [
            "[[ 0.   0.   0.   0.   3. ]\n",
            " [ 1.   2.3  0.   0.   6. ]\n",
            " [ 2.   4.   1.   0.3  7. ]\n",
            " [ 4.   5.   4.   5.   8.3]\n",
            " [ 8.   7.   4.   9.  20. ]]\n"
          ]
        }
      ]
    },
    {
      "cell_type": "code",
      "source": [
        "#que_6 making a matrix to multiply elements with 10 if its greater than 2\n",
        "a = np.array( [[ 1,   2.3,  4,   0.3,  8.3],  #to insert matrix in numpy\n",
        " [ 8,   4,   0,   0,   6. ],\n",
        " [ 4,   5,   1,   5,  20. ],\n",
        " [ 0,   7,   4 ,  9,   7. ],\n",
        " [ 2,   0,   0,  0,   3. ]])\n",
        "b = np.copy(a)# making a same copy as a to take same values and use for loop in it\n",
        "for i in range(5):# for loop for row element\n",
        "  for j in range(5):# for loop for coloumn element\n",
        "    if b[i,j] > 2:#making condition\n",
        "      b[i,j] *= 10\n",
        "print(\"matrix b \",b)#to take print of matrix b\n"
      ],
      "metadata": {
        "colab": {
          "base_uri": "https://localhost:8080/"
        },
        "id": "GqiVJQg84sjh",
        "outputId": "76d428b6-3bc2-42d7-9383-be977515afd6"
      },
      "execution_count": null,
      "outputs": [
        {
          "output_type": "stream",
          "name": "stdout",
          "text": [
            "matrix b  [[  1.   23.   40.    0.3  83. ]\n",
            " [ 80.   40.    0.    0.   60. ]\n",
            " [ 40.   50.    1.   50.  200. ]\n",
            " [  0.   70.   40.   90.   70. ]\n",
            " [  2.    0.    0.    0.   30. ]]\n"
          ]
        }
      ]
    },
    {
      "cell_type": "code",
      "source": [
        "#que_7 adding matrix a and matrix b\n",
        "a = np.array( [[ 1,   2.3,  4,   0.3,  8.3],\n",
        " [ 8,   4,   0,   0,   6. ],\n",
        " [ 4,   5,   1,   5,  20. ],\n",
        " [ 0,   7,   4 ,  9,   7. ],\n",
        " [ 2,   0,   0,  0,   3. ]])\n",
        "b = np.array([[  1.,   23.,   40.,    0.3,  83. ],\n",
        " [ 80. ,  40. ,   0. ,   0. ,  60. ],\n",
        " [ 40.,   50. ,   1. ,  50.,  200. ],\n",
        " [  0.,   70.,   40. ,  90. ,  70. ],\n",
        " [  2.,    0. ,   0.,    0,   30. ]])\n",
        "c = a + b# using simple '+' operator\n",
        "print(\"sum of matrices \",c)#to print of c as sum of matrices\n"
      ],
      "metadata": {
        "colab": {
          "base_uri": "https://localhost:8080/"
        },
        "id": "X6HCK7XvFlrM",
        "outputId": "249d7088-9ccd-486d-db27-ce2e78956087"
      },
      "execution_count": null,
      "outputs": [
        {
          "output_type": "stream",
          "name": "stdout",
          "text": [
            "sum of matrices  [[  2.   25.3  44.    0.6  91.3]\n",
            " [ 88.   44.    0.    0.   66. ]\n",
            " [ 44.   55.    2.   55.  220. ]\n",
            " [  0.   77.   44.   99.   77. ]\n",
            " [  4.    0.    0.    0.   33. ]]\n"
          ]
        }
      ]
    },
    {
      "cell_type": "code",
      "source": [
        "#ques_8 to sbtract matrix b from a\n",
        "a = np.array( [[ 1,   2.3,  4,   0.3,  8.3],\n",
        " [ 8,   4,   0,   0,   6. ],\n",
        " [ 4,   5,   1,   5,  20. ],\n",
        " [ 0,   7,   4 ,  9,   7. ],\n",
        " [ 2,   0,   0,  0,   3. ]])\n",
        "b = np.array([[  1.,   23.,   40.,    0.3,  83. ],\n",
        " [ 80. ,  40. ,   0. ,   0. ,  60. ],\n",
        " [ 40.,   50. ,   1. ,  50.,  200. ],\n",
        " [  0.,   70.,   40. ,  90. ,  70. ],\n",
        " [  2.,    0. ,   0.,    0,   30. ]])\n",
        "d = a - b #subtract matrix using '-' operator\n",
        "print(\"subtraction of matrices \", d)\n"
      ],
      "metadata": {
        "colab": {
          "base_uri": "https://localhost:8080/"
        },
        "id": "o4q9kjCjLmaS",
        "outputId": "37c59b69-08f8-4d36-b4e7-79e133053100"
      },
      "execution_count": null,
      "outputs": [
        {
          "output_type": "stream",
          "name": "stdout",
          "text": [
            "subtraction of matrices  [[   0.   -20.7  -36.     0.   -74.7]\n",
            " [ -72.   -36.     0.     0.   -54. ]\n",
            " [ -36.   -45.     0.   -45.  -180. ]\n",
            " [   0.   -63.   -36.   -81.   -63. ]\n",
            " [   0.     0.     0.     0.   -27. ]]\n"
          ]
        }
      ]
    },
    {
      "cell_type": "code",
      "source": [
        "#ques_9 multiplication element wise\n",
        "a = np.array( [[ 1,   2.3,  4,   0.3,  8.3],\n",
        " [ 8,   4,   0,   0,   6. ],\n",
        " [ 4,   5,   1,   5,  20. ],\n",
        " [ 0,   7,   4 ,  9,   7. ],\n",
        " [ 2,   0,   0,  0,   3. ]])\n",
        "b = np.array([[  1.,   23.,   40.,    0.3,  83. ],\n",
        " [ 80. ,  40. ,   0. ,   0. ,  60. ],\n",
        " [ 40.,   50. ,   1. ,  50.,  200. ],\n",
        " [  0.,   70.,   40. ,  90. ,  70. ],\n",
        " [  2.,    0. ,   0.,    0,   30. ]])\n",
        "M = a * b # multiplication by using '*' operator\n",
        "print(\"multiplication element wise\",M) # print M as multiplication element wise\n"
      ],
      "metadata": {
        "colab": {
          "base_uri": "https://localhost:8080/"
        },
        "id": "-Z46qAcLMj2X",
        "outputId": "56426b27-e2d2-4f02-b381-3a2df294dc3a"
      },
      "execution_count": null,
      "outputs": [
        {
          "output_type": "stream",
          "name": "stdout",
          "text": [
            "multiplication element wise [[1.000e+00 5.290e+01 1.600e+02 9.000e-02 6.889e+02]\n",
            " [6.400e+02 1.600e+02 0.000e+00 0.000e+00 3.600e+02]\n",
            " [1.600e+02 2.500e+02 1.000e+00 2.500e+02 4.000e+03]\n",
            " [0.000e+00 4.900e+02 1.600e+02 8.100e+02 4.900e+02]\n",
            " [4.000e+00 0.000e+00 0.000e+00 0.000e+00 9.000e+01]]\n"
          ]
        }
      ]
    },
    {
      "cell_type": "code",
      "source": [
        "# ques_9 matrix multiplication\n",
        "a = np.array( [[ 1,   2.3,  4,   0.3,  8.3],\n",
        " [ 8,   4,   0,   0,   6. ],\n",
        " [ 4,   5,   1,   5,  20. ],\n",
        " [ 0,   7,   4 ,  9,   7. ],\n",
        " [ 2,   0,   0,  0,   3. ]])\n",
        "b = np.array([[  1.,   23.,   40.,    0.3,  83. ],\n",
        " [ 80. ,  40. ,   0. ,   0. ,  60. ],\n",
        " [ 40.,   50. ,   1. ,  50.,  200. ],\n",
        " [  0.,   70.,   40. ,  90. ,  70. ],\n",
        " [  2.,    0. ,   0.,    0,   30. ]])\n",
        "m = np.dot(a,b) # to do matrix multiplication\n",
        "print(\"matrix multiplication \", m) # to print m as matrix multiplication\n"
      ],
      "metadata": {
        "colab": {
          "base_uri": "https://localhost:8080/"
        },
        "id": "7gkDLFyoP2aQ",
        "outputId": "c8cc25fa-1dc3-4e39-85fb-b1d67c98cfb8"
      },
      "execution_count": null,
      "outputs": [
        {
          "output_type": "stream",
          "name": "stdout",
          "text": [
            "matrix multiplication  [[3.616e+02 3.360e+02 5.600e+01 2.273e+02 1.291e+03]\n",
            " [3.400e+02 3.440e+02 3.200e+02 2.400e+00 1.084e+03]\n",
            " [4.840e+02 6.920e+02 3.610e+02 5.012e+02 1.782e+03]\n",
            " [7.340e+02 1.110e+03 3.640e+02 1.010e+03 2.060e+03]\n",
            " [8.000e+00 4.600e+01 8.000e+01 6.000e-01 2.560e+02]]\n"
          ]
        }
      ]
    },
    {
      "cell_type": "code",
      "source": [
        "#ques_10 multilpication of each matrix by 18\n",
        "a = np.array( [[ 1,   2.3,  4,   0.3,  8.3],\n",
        " [ 8,   4,   0,   0,   6. ],\n",
        " [ 4,   5,   1,   5,  20. ],\n",
        " [ 0,   7,   4 ,  9,   7. ],\n",
        " [ 2,   0,   0,  0,   3. ]])\n",
        "b = np.array([[  1.,   23.,   40.,    0.3,  83. ],\n",
        " [ 80. ,  40. ,   0. ,   0. ,  60. ],\n",
        " [ 40.,   50. ,   1. ,  50.,  200. ],\n",
        " [  0.,   70.,   40. ,  90. ,  70. ],\n",
        " [  2.,    0. ,   0.,    0,   30. ]])\n",
        "f = a/18 # to divide each element by 18\n",
        "g = b/18 # to divide each element by 18\n",
        "print(\"result for a \",f) # to print f as result for a\n",
        "print(\"result for b \",g) # to print g as result for b"
      ],
      "metadata": {
        "colab": {
          "base_uri": "https://localhost:8080/"
        },
        "id": "Cxf8u3VNRhgS",
        "outputId": "e17319a4-678b-42f7-f865-c710e26a1b6d"
      },
      "execution_count": null,
      "outputs": [
        {
          "output_type": "stream",
          "name": "stdout",
          "text": [
            "result for a  [[0.05555556 0.12777778 0.22222222 0.01666667 0.46111111]\n",
            " [0.44444444 0.22222222 0.         0.         0.33333333]\n",
            " [0.22222222 0.27777778 0.05555556 0.27777778 1.11111111]\n",
            " [0.         0.38888889 0.22222222 0.5        0.38888889]\n",
            " [0.11111111 0.         0.         0.         0.16666667]]\n",
            "result for b  [[ 0.05555556  1.27777778  2.22222222  0.01666667  4.61111111]\n",
            " [ 4.44444444  2.22222222  0.          0.          3.33333333]\n",
            " [ 2.22222222  2.77777778  0.05555556  2.77777778 11.11111111]\n",
            " [ 0.          3.88888889  2.22222222  5.          3.88888889]\n",
            " [ 0.11111111  0.          0.          0.          1.66666667]]\n"
          ]
        }
      ]
    },
    {
      "cell_type": "code",
      "source": [
        "#ques_11 finding inverse of matrix\n",
        "a = np.array( [[ 1,   2.3,  4,   0.3,  8.3],# saving matrices in numpy array\n",
        " [ 8,   4,   0,   0,   6. ],\n",
        " [ 4,   5,   1,   5,  20. ],\n",
        " [ 0,   7,   4 ,  9,   7. ],\n",
        " [ 2,   0,   0,  0,   3. ]])\n",
        "b = np.array([[  1.,   23.,   40.,    0.3,  83. ],\n",
        " [ 80. ,  40. ,   0. ,   0. ,  60. ],\n",
        " [ 40.,   50. ,   1. ,  50.,  200. ],\n",
        " [  0.,   70.,   40. ,  90. ,  70. ],\n",
        " [  2.,    0. ,   0.,    0,   30. ]])\n",
        "c = np.linalg.inv(a) # using linear algebra (linalg) function in which using inverse function\n",
        "d = np.linalg.inv(b)\n",
        "print(\"inverse of a \",c)#to take desirable  print\n",
        "print(\"inverse of b\",d)"
      ],
      "metadata": {
        "id": "Y3O1vdDfV7II",
        "colab": {
          "base_uri": "https://localhost:8080/"
        },
        "outputId": "1b410271-cc1f-49f2-9be8-5d909e7fa690"
      },
      "execution_count": null,
      "outputs": [
        {
          "output_type": "stream",
          "name": "stdout",
          "text": [
            "inverse of a  [[-0.03196435  0.0446048  -0.1011236   0.05724525  0.53981015]\n",
            " [ 0.03196435  0.2053952   0.1011236  -0.05724525 -1.03981015]\n",
            " [ 0.20534676 -0.05927935 -0.16853933  0.08678807  0.47152267]\n",
            " [-0.1327005  -0.11027702 -0.05617978  0.14674545  0.6198179 ]\n",
            " [ 0.02130957 -0.02973654  0.06741573 -0.0381635  -0.0265401 ]]\n",
            "inverse of b [[-0.03079968  0.03360189 -0.05785825  0.03224614  0.32848933]\n",
            " [ 0.05851939 -0.03884358  0.10993067 -0.06126766 -0.67412972]\n",
            " [-0.01182536  0.02599025 -0.06933475  0.03855873  0.35299765]\n",
            " [-0.04185639  0.02040277 -0.05768624  0.04329854  0.35854213]\n",
            " [ 0.00205331 -0.00224013  0.00385722 -0.00214974  0.01143404]]\n"
          ]
        }
      ]
    },
    {
      "cell_type": "code",
      "source": [
        "#ques_11 finding matrix rank\n",
        "r_a = np.linalg.matrix_rank(a) #using linalg function and matrix_rank function to find rank of matrix\n",
        "r_b = np.linalg.matrix_rank(b)\n",
        "print(\"rank of matrix a\",r_a) # to print r_a as rank of matrix\n",
        "print(\"rank of matrix b\", r_b)  # to print r_b as rank of matrix"
      ],
      "metadata": {
        "colab": {
          "base_uri": "https://localhost:8080/"
        },
        "id": "xgZns1OfrSF4",
        "outputId": "3a039c51-b144-44a5-cded-53f4094272d4"
      },
      "execution_count": null,
      "outputs": [
        {
          "output_type": "stream",
          "name": "stdout",
          "text": [
            "rank of matrix a 5\n",
            "rank of matrix b 5\n"
          ]
        }
      ]
    },
    {
      "cell_type": "code",
      "source": [
        "# que_11  finding condition number\n",
        "\n",
        "a = np.array( [[ 1,   2.3,  4,   0.3,  8.3],# saving matrices in numpy array\n",
        " [ 8,   4,   0,   0,   6. ],\n",
        " [ 4,   5,   1,   5,  20. ],\n",
        " [ 0,   7,   4 ,  9,   7. ],\n",
        " [ 2,   0,   0,  0,   3. ]])\n",
        "b = np.array([[  1.,   23.,   40.,    0.3,  83. ],\n",
        " [ 80. ,  40. ,   0. ,   0. ,  60. ],\n",
        " [ 40.,   50. ,   1. ,  50.,  200. ],\n",
        " [  0.,   70.,   40. ,  90. ,  70. ],\n",
        " [  2.,    0. ,   0.,    0,   30. ]])\n",
        "c = np.linalg.cond(a) # to find condition number we used .cond function\n",
        "d = np.linalg.cond(b)\n",
        "print(\"condition number for a \", c)# to take print as desirable\n",
        "print(\"condition number for b \", d)\n",
        "\n",
        "n_a = np.linalg.norm(a, ord='fro') # to find norm of a and b we used .norm function\n",
        "n_b = np.linalg.norm(b, ord='fro')\n",
        "print(\"norm of a \", n_a)\n",
        "print(\"norm of b \", n_b)\n"
      ],
      "metadata": {
        "colab": {
          "base_uri": "https://localhost:8080/"
        },
        "id": "2Okw9VtcsafF",
        "outputId": "40fcddf6-cc14-45bf-aeaa-2b0f944f3241"
      },
      "execution_count": null,
      "outputs": [
        {
          "output_type": "stream",
          "name": "stdout",
          "text": [
            "condition number for a  39.29189746914045\n",
            "condition number for b  249.79004886538308\n",
            "norm of a  29.703030148454552\n",
            "norm of b  296.0136652251041\n"
          ]
        }
      ]
    },
    {
      "cell_type": "code",
      "source": [
        "#ques_12 to find  inner product and outer product of coloumn vector\n",
        "import numpy as np\n",
        "a = np.array([[2], [3], [5.2], [8.6]]) # to store coloumn vector in numpy array\n",
        "\n",
        "inner_product = np.inner(a, a) # to calculate inner product we used .inner function\n",
        "\n",
        "outer_product = np.outer(a, a)# to calculate outer product we used .outer product\n",
        "print(\"inner Product:\",inner_product)\n",
        "print(\"outer product\",outer_product)\n",
        "\n"
      ],
      "metadata": {
        "colab": {
          "base_uri": "https://localhost:8080/"
        },
        "id": "prZlDBuK2bvy",
        "outputId": "299d6bbb-cd1c-460d-82ca-c5e3cc378dd6"
      },
      "execution_count": null,
      "outputs": [
        {
          "output_type": "stream",
          "name": "stdout",
          "text": [
            "inner Product: [[ 4.    6.   10.4  17.2 ]\n",
            " [ 6.    9.   15.6  25.8 ]\n",
            " [10.4  15.6  27.04 44.72]\n",
            " [17.2  25.8  44.72 73.96]]\n",
            "outer product [[ 4.    6.   10.4  17.2 ]\n",
            " [ 6.    9.   15.6  25.8 ]\n",
            " [10.4  15.6  27.04 44.72]\n",
            " [17.2  25.8  44.72 73.96]]\n"
          ]
        }
      ]
    },
    {
      "cell_type": "code",
      "source": [
        "# que_13  to write a function called derivative which takes input parameters f(x), b, method (forward,backward and central)\n",
        "import math # to import different mathematical operation\n",
        "def derivative(f, b, method='central', h=0.01):\n",
        "    if method == 'forward':# making a condition for forward return\n",
        "        return (f(b + h) - f(b)) / h\n",
        "    elif method == 'backward':# making a condion for backward return\n",
        "        return (f(b) - f(b - h)) / h\n",
        "    elif method == 'central': # making a condition for central return\n",
        "        return (f(b + h) - f(b - h)) / (2 * h)\n",
        "    else:\n",
        "        raise ValueError(\"Invalid method. Use 'forward', 'backward', or 'central'.\")\n",
        "\n",
        "# Test the function with e^x and cos(x) at x = 0.5\n",
        "x = 0.5\n",
        "\n",
        "\n",
        "def exp_x(x):\n",
        "    return math.exp(x)\n",
        "\n",
        "def cos_x(x):\n",
        "    return math.cos(x)\n",
        "\n",
        "forward_derivative_exp  =  derivative(exp_x, x, method='forward') # Calculating  derivatives using forward  methods\n",
        "backward_derivative_exp=  derivative(exp_x, x, method='backward') # calculating derivatives using backward method\n",
        "central_derivative_exp=  derivative(exp_x, x) # calculating derivative using central method\n",
        "\n",
        "forward_derivative_cos = derivative(cos_x, x, method='forward')\n",
        "backward_derivative_cos = derivative(cos_x, x, method='backward')\n",
        "central_derivative_cos = derivative(cos_x, x)\n",
        "\n",
        "\n",
        "# Print the results\n",
        "print(\"Derivative of e^x at x = 0.5:\")\n",
        "print(\"Forward Difference:\", forward_derivative_exp)\n",
        "print(\"Backward Difference:\", backward_derivative_exp)\n",
        "print(\"Central Difference:\", central_derivative_exp)\n",
        "print()\n",
        "\n",
        "print(\"Derivative of cos(x) at x = 0.5:\")\n",
        "print(\"Forward Difference:\", forward_derivative_cos)\n",
        "print(\"Backward Difference:\", backward_derivative_cos)\n",
        "print(\"Central Difference:\", central_derivative_cos)\n"
      ],
      "metadata": {
        "id": "FRWOWRYj5r60",
        "colab": {
          "base_uri": "https://localhost:8080/"
        },
        "outputId": "69dc888b-3692-421a-c16c-80cfc46ba952"
      },
      "execution_count": null,
      "outputs": [
        {
          "output_type": "stream",
          "name": "stdout",
          "text": [
            "Derivative of e^x at x = 0.5:\n",
            "Forward Difference: 1.6569924245758205\n",
            "Backward Difference: 1.6405050744749294\n",
            "Central Difference: 1.648748749525375\n",
            "\n",
            "Derivative of cos(x) at x = 0.5:\n",
            "Forward Difference: -0.483805424462147\n",
            "Backward Difference: -0.4750296719748692\n",
            "Central Difference: -0.4794175482185081\n"
          ]
        }
      ]
    },
    {
      "cell_type": "code",
      "source": [
        "# que_14 to read aws data in google colab\n",
        "from google.colab import drive # to connect drive with google colab\n",
        "\n",
        "drive.mount('/content/drive')\n",
        "\n"
      ],
      "metadata": {
        "colab": {
          "base_uri": "https://localhost:8080/"
        },
        "id": "1V5F1BGLaI8g",
        "outputId": "e326eece-4977-4b75-d8ea-ec9bec6cf916"
      },
      "execution_count": null,
      "outputs": [
        {
          "output_type": "stream",
          "name": "stdout",
          "text": [
            "Mounted at /content/drive\n"
          ]
        }
      ]
    },
    {
      "cell_type": "code",
      "source": [
        "#que_14.....\n",
        "from google.colab import files #to upload file in google drive so that path can be taken and file can be read by google colab\n",
        "\n",
        "uploaded = files.upload()\n"
      ],
      "metadata": {
        "colab": {
          "base_uri": "https://localhost:8080/",
          "height": 73
        },
        "id": "QwoZTskIbDUP",
        "outputId": "9bb0f482-e5f4-48d3-aa74-aeb0e3804717"
      },
      "execution_count": null,
      "outputs": [
        {
          "output_type": "display_data",
          "data": {
            "text/plain": [
              "<IPython.core.display.HTML object>"
            ],
            "text/html": [
              "\n",
              "     <input type=\"file\" id=\"files-fd2187c8-d636-43cc-a32e-6186e1a1e0e4\" name=\"files[]\" multiple disabled\n",
              "        style=\"border:none\" />\n",
              "     <output id=\"result-fd2187c8-d636-43cc-a32e-6186e1a1e0e4\">\n",
              "      Upload widget is only available when the cell has been executed in the\n",
              "      current browser session. Please rerun this cell to enable.\n",
              "      </output>\n",
              "      <script>// Copyright 2017 Google LLC\n",
              "//\n",
              "// Licensed under the Apache License, Version 2.0 (the \"License\");\n",
              "// you may not use this file except in compliance with the License.\n",
              "// You may obtain a copy of the License at\n",
              "//\n",
              "//      http://www.apache.org/licenses/LICENSE-2.0\n",
              "//\n",
              "// Unless required by applicable law or agreed to in writing, software\n",
              "// distributed under the License is distributed on an \"AS IS\" BASIS,\n",
              "// WITHOUT WARRANTIES OR CONDITIONS OF ANY KIND, either express or implied.\n",
              "// See the License for the specific language governing permissions and\n",
              "// limitations under the License.\n",
              "\n",
              "/**\n",
              " * @fileoverview Helpers for google.colab Python module.\n",
              " */\n",
              "(function(scope) {\n",
              "function span(text, styleAttributes = {}) {\n",
              "  const element = document.createElement('span');\n",
              "  element.textContent = text;\n",
              "  for (const key of Object.keys(styleAttributes)) {\n",
              "    element.style[key] = styleAttributes[key];\n",
              "  }\n",
              "  return element;\n",
              "}\n",
              "\n",
              "// Max number of bytes which will be uploaded at a time.\n",
              "const MAX_PAYLOAD_SIZE = 100 * 1024;\n",
              "\n",
              "function _uploadFiles(inputId, outputId) {\n",
              "  const steps = uploadFilesStep(inputId, outputId);\n",
              "  const outputElement = document.getElementById(outputId);\n",
              "  // Cache steps on the outputElement to make it available for the next call\n",
              "  // to uploadFilesContinue from Python.\n",
              "  outputElement.steps = steps;\n",
              "\n",
              "  return _uploadFilesContinue(outputId);\n",
              "}\n",
              "\n",
              "// This is roughly an async generator (not supported in the browser yet),\n",
              "// where there are multiple asynchronous steps and the Python side is going\n",
              "// to poll for completion of each step.\n",
              "// This uses a Promise to block the python side on completion of each step,\n",
              "// then passes the result of the previous step as the input to the next step.\n",
              "function _uploadFilesContinue(outputId) {\n",
              "  const outputElement = document.getElementById(outputId);\n",
              "  const steps = outputElement.steps;\n",
              "\n",
              "  const next = steps.next(outputElement.lastPromiseValue);\n",
              "  return Promise.resolve(next.value.promise).then((value) => {\n",
              "    // Cache the last promise value to make it available to the next\n",
              "    // step of the generator.\n",
              "    outputElement.lastPromiseValue = value;\n",
              "    return next.value.response;\n",
              "  });\n",
              "}\n",
              "\n",
              "/**\n",
              " * Generator function which is called between each async step of the upload\n",
              " * process.\n",
              " * @param {string} inputId Element ID of the input file picker element.\n",
              " * @param {string} outputId Element ID of the output display.\n",
              " * @return {!Iterable<!Object>} Iterable of next steps.\n",
              " */\n",
              "function* uploadFilesStep(inputId, outputId) {\n",
              "  const inputElement = document.getElementById(inputId);\n",
              "  inputElement.disabled = false;\n",
              "\n",
              "  const outputElement = document.getElementById(outputId);\n",
              "  outputElement.innerHTML = '';\n",
              "\n",
              "  const pickedPromise = new Promise((resolve) => {\n",
              "    inputElement.addEventListener('change', (e) => {\n",
              "      resolve(e.target.files);\n",
              "    });\n",
              "  });\n",
              "\n",
              "  const cancel = document.createElement('button');\n",
              "  inputElement.parentElement.appendChild(cancel);\n",
              "  cancel.textContent = 'Cancel upload';\n",
              "  const cancelPromise = new Promise((resolve) => {\n",
              "    cancel.onclick = () => {\n",
              "      resolve(null);\n",
              "    };\n",
              "  });\n",
              "\n",
              "  // Wait for the user to pick the files.\n",
              "  const files = yield {\n",
              "    promise: Promise.race([pickedPromise, cancelPromise]),\n",
              "    response: {\n",
              "      action: 'starting',\n",
              "    }\n",
              "  };\n",
              "\n",
              "  cancel.remove();\n",
              "\n",
              "  // Disable the input element since further picks are not allowed.\n",
              "  inputElement.disabled = true;\n",
              "\n",
              "  if (!files) {\n",
              "    return {\n",
              "      response: {\n",
              "        action: 'complete',\n",
              "      }\n",
              "    };\n",
              "  }\n",
              "\n",
              "  for (const file of files) {\n",
              "    const li = document.createElement('li');\n",
              "    li.append(span(file.name, {fontWeight: 'bold'}));\n",
              "    li.append(span(\n",
              "        `(${file.type || 'n/a'}) - ${file.size} bytes, ` +\n",
              "        `last modified: ${\n",
              "            file.lastModifiedDate ? file.lastModifiedDate.toLocaleDateString() :\n",
              "                                    'n/a'} - `));\n",
              "    const percent = span('0% done');\n",
              "    li.appendChild(percent);\n",
              "\n",
              "    outputElement.appendChild(li);\n",
              "\n",
              "    const fileDataPromise = new Promise((resolve) => {\n",
              "      const reader = new FileReader();\n",
              "      reader.onload = (e) => {\n",
              "        resolve(e.target.result);\n",
              "      };\n",
              "      reader.readAsArrayBuffer(file);\n",
              "    });\n",
              "    // Wait for the data to be ready.\n",
              "    let fileData = yield {\n",
              "      promise: fileDataPromise,\n",
              "      response: {\n",
              "        action: 'continue',\n",
              "      }\n",
              "    };\n",
              "\n",
              "    // Use a chunked sending to avoid message size limits. See b/62115660.\n",
              "    let position = 0;\n",
              "    do {\n",
              "      const length = Math.min(fileData.byteLength - position, MAX_PAYLOAD_SIZE);\n",
              "      const chunk = new Uint8Array(fileData, position, length);\n",
              "      position += length;\n",
              "\n",
              "      const base64 = btoa(String.fromCharCode.apply(null, chunk));\n",
              "      yield {\n",
              "        response: {\n",
              "          action: 'append',\n",
              "          file: file.name,\n",
              "          data: base64,\n",
              "        },\n",
              "      };\n",
              "\n",
              "      let percentDone = fileData.byteLength === 0 ?\n",
              "          100 :\n",
              "          Math.round((position / fileData.byteLength) * 100);\n",
              "      percent.textContent = `${percentDone}% done`;\n",
              "\n",
              "    } while (position < fileData.byteLength);\n",
              "  }\n",
              "\n",
              "  // All done.\n",
              "  yield {\n",
              "    response: {\n",
              "      action: 'complete',\n",
              "    }\n",
              "  };\n",
              "}\n",
              "\n",
              "scope.google = scope.google || {};\n",
              "scope.google.colab = scope.google.colab || {};\n",
              "scope.google.colab._files = {\n",
              "  _uploadFiles,\n",
              "  _uploadFilesContinue,\n",
              "};\n",
              "})(self);\n",
              "</script> "
            ]
          },
          "metadata": {}
        },
        {
          "output_type": "stream",
          "name": "stdout",
          "text": [
            "Saving aws data.csv to aws data.csv\n"
          ]
        }
      ]
    },
    {
      "cell_type": "code",
      "source": [
        "import pandas as pd #importing panda\n",
        "\n",
        "path = '/content/drive/MyDrive/Colab Notebooks/aws data.csv' # it is the path which is copied from drive\n",
        "data = pd.read_csv(path) #to read .csv file\n"
      ],
      "metadata": {
        "id": "NLr3p_vXhy4h"
      },
      "execution_count": null,
      "outputs": []
    },
    {
      "cell_type": "code",
      "source": [
        "print(data) # to take print of data"
      ],
      "metadata": {
        "id": "1KdJbVTFkVhN",
        "outputId": "b2594a9b-b774-479e-8de2-2f2203e21c70",
        "colab": {
          "base_uri": "https://localhost:8080/"
        }
      },
      "execution_count": null,
      "outputs": [
        {
          "output_type": "stream",
          "name": "stdout",
          "text": [
            "                    created_at  entry_id  Soil Temperature  Soil Moisture  \\\n",
            "0    2022-12-14T14:19:11+05:30     10830             21.06            817   \n",
            "1    2022-12-14T14:20:13+05:30     10831             21.06            817   \n",
            "2    2022-12-14T14:21:15+05:30     10832             21.06            817   \n",
            "3    2022-12-14T14:22:18+05:30     10833             21.06            817   \n",
            "4    2022-12-14T14:23:20+05:30     10834             21.06            817   \n",
            "..                         ...       ...               ...            ...   \n",
            "654  2022-12-26T14:37:18+05:30     11484             20.50            818   \n",
            "655  2022-12-26T15:17:18+05:30     11485           4095.94            818   \n",
            "656  2022-12-26T15:57:59+05:30     11486             20.50            818   \n",
            "657  2022-12-26T16:58:03+05:30     11487             20.00            816   \n",
            "658  2022-12-26T17:18:03+05:30     11488             19.75            816   \n",
            "\n",
            "     Wind Speed  Rainfall  Temperature  Humidity  Pressure  Battery Voltage  \n",
            "0          0.00      0.25        25.38     45.09      1.94             4.14  \n",
            "1          0.00      0.25        25.27     46.52      1.94             4.14  \n",
            "2          0.00      0.25        25.34     45.79      1.94             4.14  \n",
            "3          0.00      0.25        25.13     44.91      1.94             4.15  \n",
            "4          0.00      0.25        24.95     45.12      1.94             4.15  \n",
            "..          ...       ...          ...       ...       ...              ...  \n",
            "654        1.01      0.46        24.58     45.68      1.95             4.09  \n",
            "655        0.67      0.46        25.36     42.22      1.95             4.09  \n",
            "656        0.00      0.46        23.61     52.21      1.95             4.13  \n",
            "657        0.00      0.46        20.28     61.70      1.95             4.11  \n",
            "658        0.00      0.46        19.06     64.70      1.95             4.11  \n",
            "\n",
            "[659 rows x 10 columns]\n"
          ]
        }
      ]
    },
    {
      "cell_type": "code",
      "source": [],
      "metadata": {
        "id": "oRwgQx1SkYO4"
      },
      "execution_count": null,
      "outputs": []
    }
  ]
}